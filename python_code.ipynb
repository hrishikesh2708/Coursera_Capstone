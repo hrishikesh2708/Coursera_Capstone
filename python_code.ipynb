
# Myself Hrishikesh  Thakur.
#following notebook is created for completing the capestone project of Applied Data Science

import numpy as np
import pandas as pd


print("Hello Capstone Project Course!")
