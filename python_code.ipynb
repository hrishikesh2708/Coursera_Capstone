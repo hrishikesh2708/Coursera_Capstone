{
 "cells": [
  {
   "cell_type": "code",
   "execution_count": 3,
   "metadata": {
    "tags": []
   },
   "outputs": [
    {
     "output_type": "stream",
     "name": "stdout",
     "text": "Hello Capstone Project Course!\n"
    }
   ],
   "source": [
    "# Myself Hrishikesh  Thakur.\n",
    "#following notebook is created for completing the capestone project of Applied Data Science\n",
    "\n",
    "import numpy as np\n",
    "import pandas as pd\n",
    "import requests\n",
    "import random\n",
    "from IPython.display import Image\n",
    "from IPython.core.display import HTML\n",
    "from pandas.io.json import json_normalize\n",
    "\n",
    "print(\"Hello Capstone Project Course!\")"
   ]
  },
  {
   "cell_type": "code",
   "execution_count": 4,
   "metadata": {
    "tags": []
   },
   "outputs": [
    {
     "output_type": "stream",
     "name": "stdout",
     "text": "Collecting package metadata (current_repodata.json): ...working... done\nSolving environment: ...working... \nWarning: 2 possible package resolutions (only showing differing packages):\n  - anaconda/win-64::openssl-1.1.1d-he774522_2\n  - defaults/win-64::openssl-1.1.1d-he774522_2done\n\n## Package Plan ##\n\n  environment location: C:\\Users\\91807\\Anaconda3\n\n  added / updated specs:\n    - geopy\n\n\nThe following packages will be downloaded:\n\n    package                    |            build\n    ---------------------------|-----------------\n    geographiclib-1.50         |             py_0          34 KB  conda-forge\n    geopy-1.22.0               |     pyh9f0ad1d_0          63 KB  conda-forge\n    ------------------------------------------------------------\n                                           Total:          97 KB\n\nThe following NEW packages will be INSTALLED:\n\n  geographiclib      conda-forge/noarch::geographiclib-1.50-py_0\n  geopy              conda-forge/noarch::geopy-1.22.0-pyh9f0ad1d_0\n\n\n\nDownloading and Extracting Packages\n\ngeographiclib-1.50   | 34 KB     |            |   0% \ngeographiclib-1.50   | 34 KB     | ####7      |  47% \ngeographiclib-1.50   | 34 KB     | ########## | 100% \n\ngeopy-1.22.0         | 63 KB     |            |   0% \ngeopy-1.22.0         | 63 KB     | ##5        |  26% \ngeopy-1.22.0         | 63 KB     | ########## | 100% \nPreparing transaction: ...working... done\nVerifying transaction: ...working... done\nExecuting transaction: ...working... done\n"
    }
   ],
   "source": [
    "!conda install -c conda-forge geopy --yes"
   ]
  },
  {
   "cell_type": "code",
   "execution_count": 5,
   "metadata": {
    "tags": []
   },
   "outputs": [
    {
     "output_type": "stream",
     "name": "stdout",
     "text": "Collecting package metadata (current_repodata.json): ...working... done\nSolving environment: ...working... \nWarning: 2 possible package resolutions (only showing differing packages):\n  - anaconda/win-64::openssl-1.1.1d-he774522_2\n  - defaults/win-64::openssl-1.1.1d-he774522_2done\n\n# All requested packages already installed.\n\n"
    }
   ],
   "source": [
    "!conda install -c conda-forge folium=0.5.0 --yes\n"
   ]
  },
  {
   "cell_type": "code",
   "execution_count": 11,
   "metadata": {},
   "outputs": [],
   "source": [
    "import folium\n",
    "from geopy.geocoders import Nominatim"
   ]
  },
  {
   "cell_type": "code",
   "execution_count": 7,
   "metadata": {
    "tags": []
   },
   "outputs": [
    {
     "output_type": "stream",
     "name": "stdout",
     "text": "Your credentails:\nCLIENT_ID: A4JEJK1MFGRUX15QIA5RYKOKQVHAKEEVLNNB0KN1ZH5B5CV1\nCLIENT_SECRET:ETAAWOL0MKOCW4U53JCVBXJMUJ3XTOGD52TOJLKTUAEIPQIP\n"
    }
   ],
   "source": [
    "CLIENT_ID = 'A4JEJK1MFGRUX15QIA5RYKOKQVHAKEEVLNNB0KN1ZH5B5CV1' # your Foursquare ID\n",
    "CLIENT_SECRET = 'ETAAWOL0MKOCW4U53JCVBXJMUJ3XTOGD52TOJLKTUAEIPQIP' # your Foursquare Secret\n",
    "VERSION = '20180604'\n",
    "LIMIT = 30\n",
    "print('Your credentails:')\n",
    "print('CLIENT_ID: ' + CLIENT_ID)\n",
    "print('CLIENT_SECRET:' + CLIENT_SECRET)"
   ]
  },
  {
   "cell_type": "code",
   "execution_count": 12,
   "metadata": {
    "tags": []
   },
   "outputs": [
    {
     "output_type": "stream",
     "name": "stdout",
     "text": "40.7151482 -74.0156573\n"
    }
   ],
   "source": [
    "address = '102 North End Ave, New York, NY'\n",
    "\n",
    "geolocator = Nominatim(user_agent=\"foursquare_agent\")\n",
    "location = geolocator.geocode(address)\n",
    "latitude = location.latitude\n",
    "longitude = location.longitude\n",
    "print(latitude, longitude)"
   ]
  },
  {
   "cell_type": "code",
   "execution_count": null,
   "metadata": {},
   "outputs": [],
   "source": []
  }
 ],
 "metadata": {
  "language_info": {
   "codemirror_mode": {
    "name": "ipython",
    "version": 3
   },
   "file_extension": ".py",
   "mimetype": "text/x-python",
   "name": "python",
   "nbconvert_exporter": "python",
   "pygments_lexer": "ipython3",
   "version": "3.7.4-final"
  },
  "orig_nbformat": 2,
  "kernelspec": {
   "name": "python3",
   "display_name": "Python 3"
  }
 },
 "nbformat": 4,
 "nbformat_minor": 2
}